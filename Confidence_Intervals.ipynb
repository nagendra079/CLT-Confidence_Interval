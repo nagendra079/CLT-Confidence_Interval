{
  "nbformat": 4,
  "nbformat_minor": 0,
  "metadata": {
    "colab": {
      "name": "Confidence Intervals",
      "provenance": [],
      "collapsed_sections": []
    },
    "kernelspec": {
      "name": "python3",
      "display_name": "Python 3"
    }
  },
  "cells": [
    {
      "cell_type": "code",
      "metadata": {
        "id": "Skqj_mLXLTVf"
      },
      "source": [
        "%matplotlib inline"
      ],
      "execution_count": 2,
      "outputs": []
    },
    {
      "cell_type": "code",
      "metadata": {
        "id": "r67TM-MVLol1"
      },
      "source": [
        "import numpy as np\n",
        "import pandas as pd\n",
        "import scipy.stats as stats\n",
        "import matplotlib.pyplot as plt\n",
        "import random\n",
        "import math"
      ],
      "execution_count": 3,
      "outputs": []
    },
    {
      "cell_type": "code",
      "metadata": {
        "id": "oKwlbs_IL3QO"
      },
      "source": [
        "#With seed set, we will get same set of random numbers everytime\n",
        "np.random.seed(10)\n",
        "#Any number can be used in the place of 10. Seed function keeps previously generated value. In the beginning it uses system time as previously generated\n",
        "#value"
      ],
      "execution_count": 4,
      "outputs": []
    },
    {
      "cell_type": "code",
      "metadata": {
        "id": "Rz1klB9pNDg4"
      },
      "source": [
        "population_ages1 = stats.poisson.rvs(mu = 35, size = 150000)\n",
        "#Ages of adults with mean of 35."
      ],
      "execution_count": 5,
      "outputs": []
    },
    {
      "cell_type": "code",
      "metadata": {
        "id": "J8sNDgvYNqGY"
      },
      "source": [
        "population_ages2 = stats.poisson.rvs(mu = 10, size = 100000)\n",
        "#Ages of kids with mean of 10."
      ],
      "execution_count": 6,
      "outputs": []
    },
    {
      "cell_type": "code",
      "metadata": {
        "id": "64chHafdN2Z2"
      },
      "source": [
        "population_ages = np.concatenate((population_ages1, population_ages2))\n",
        "#This creates a vector of 2.5M size.  "
      ],
      "execution_count": 7,
      "outputs": []
    },
    {
      "cell_type": "code",
      "metadata": {
        "id": "qGwN4BZTORAF",
        "outputId": "f9279323-c4de-41cc-d437-7782277e46a7",
        "colab": {
          "base_uri": "https://localhost:8080/"
        }
      },
      "source": [
        "population_ages.mean()"
      ],
      "execution_count": 8,
      "outputs": [
        {
          "output_type": "execute_result",
          "data": {
            "text/plain": [
              "25.002372"
            ]
          },
          "metadata": {
            "tags": []
          },
          "execution_count": 8
        }
      ]
    },
    {
      "cell_type": "code",
      "metadata": {
        "id": "YYBcV6oCOZfh",
        "outputId": "b52e213a-eb1a-446a-dbeb-30c036736efe",
        "colab": {
          "base_uri": "https://localhost:8080/"
        }
      },
      "source": [
        "sample_ages = np.random.choice(a = population_ages, size = 500)\n",
        "print(sample_ages.mean())\n",
        "print(population_ages.mean() - sample_ages.mean())"
      ],
      "execution_count": 11,
      "outputs": [
        {
          "output_type": "stream",
          "text": [
            "25.334\n",
            "-0.3316279999999985\n"
          ],
          "name": "stdout"
        }
      ]
    },
    {
      "cell_type": "code",
      "metadata": {
        "id": "r8JDoniBPOgS",
        "outputId": "4458084a-a9b9-4a4e-9bc0-ef77933654f8",
        "colab": {
          "base_uri": "https://localhost:8080/",
          "height": 554
        }
      },
      "source": [
        "np.random.seed(10)\n",
        "#To get same random numbers again and again in this block\n",
        "point_estimates = []\n",
        "for x in range(200):\n",
        "  sample = np.random.choice(a = population_ages, size = 500)\n",
        "  point_estimates.append(sample.mean())\n",
        "\n",
        "pd.DataFrame(point_estimates).plot(kind = \"density\", figsize=(9,9), xlim=(22, 28))\n",
        "#The graph is density graph"
      ],
      "execution_count": 12,
      "outputs": [
        {
          "output_type": "execute_result",
          "data": {
            "text/plain": [
              "<matplotlib.axes._subplots.AxesSubplot at 0x7f34df9b06a0>"
            ]
          },
          "metadata": {
            "tags": []
          },
          "execution_count": 12
        },
        {
          "output_type": "display_data",
          "data": {
            "image/png": "[encoded data removed]",
            "text/plain": [
              "<Figure size 648x648 with 1 Axes>"
            ]
          },
          "metadata": {
            "tags": [],
            "needs_background": "light"
          }
        }
      ]
    },
    {
      "cell_type": "code",
      "metadata": {
        "id": "JVUhBJv6Qrld"
      },
      "source": [
        "#The above graph clearly says distribution of sample means follow normal distribution and mean is actually close true mean of population."
      ],
      "execution_count": 13,
      "outputs": []
    },
    {
      "cell_type": "code",
      "metadata": {
        "id": "67gz8W-X9XTW",
        "outputId": "48f8a68a-5da3-448e-9376-a66af59fb1b7",
        "colab": {
          "base_uri": "https://localhost:8080/"
        }
      },
      "source": [
        "#Calculating 95% confidence interval\n",
        "np.random.seed(10)\n",
        "sample_size = 1000\n",
        "sample = np.random.choice(a = population_ages, size = sample_size)\n",
        "sample_mean = sample.mean()\n",
        "\n",
        "z_critical = stats.norm.ppf(q=0.975) # (1-a)*100% = 95%\n",
        "                                      # a=0.05\n",
        "                                      # a/2 = 0.025\n",
        "                                      # 1-0.025 = 0.975\n",
        "                                  \n",
        "print(\"Z Score for 95% interval is:\")\n",
        "print(z_critical)"
      ],
      "execution_count": 16,
      "outputs": [
        {
          "output_type": "stream",
          "text": [
            "Z Score for 95% interval is:\n",
            "1.959963984540054\n"
          ],
          "name": "stdout"
        }
      ]
    },
    {
      "cell_type": "code",
      "metadata": {
        "id": "dQoowM5zJzFv",
        "outputId": "2b2b809d-df22-4727-82d9-f6f78e805ba1",
        "colab": {
          "base_uri": "https://localhost:8080/"
        }
      },
      "source": [
        "pop_standard_deviation = population_ages.std()\n",
        "margin_of_error = z_critical * (pop_standard_deviation/math.sqrt(sample_size))\n",
        "confidence_interval = (sample_mean - margin_of_error, sample_mean + margin_of_error)\n",
        "print(\"confidence interval: \")\n",
        "print(confidence_interval)"
      ],
      "execution_count": 17,
      "outputs": [
        {
          "output_type": "stream",
          "text": [
            "confidence interval: \n",
            "(23.70306406882683, 25.34293593117317)\n"
          ],
          "name": "stdout"
        }
      ]
    },
    {
      "cell_type": "code",
      "metadata": {
        "id": "MJbWF5uCK2H1"
      },
      "source": [
        "#The true mean of population ages is present in the confidence interval."
      ],
      "execution_count": 18,
      "outputs": []
    },
    {
      "cell_type": "code",
      "metadata": {
        "id": "pqSS0RiHLRq9"
      },
      "source": [
        ""
      ],
      "execution_count": null,
      "outputs": []
    }
  ]
}